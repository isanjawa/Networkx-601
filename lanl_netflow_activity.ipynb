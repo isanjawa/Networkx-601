{
 "cells": [
  {
   "cell_type": "markdown",
   "metadata": {},
   "source": [
    "https://csr.lanl.gov/data/2017.html\n",
    "\n",
    "\n",
    "https://csr.lanl.gov/data-fence/1571548765/1fcFh-bNWqPJuUSQe72Z9N_Nw28=/unified-host-network-dataset-2017/netflow.html"
   ]
  },
  {
   "cell_type": "markdown",
   "metadata": {},
   "source": [
    "Compressed, netflow_day-02.bz2 is 1100MB\n",
    "\n",
    "Extracts to 6.7GB; that's 115,949,436 lines"
   ]
  },
  {
   "cell_type": "raw",
   "metadata": {},
   "source": [
    "!bzip2 -d netflow_day-02.bz2 "
   ]
  },
  {
   "cell_type": "code",
   "execution_count": null,
   "metadata": {},
   "outputs": [
    {
     "name": "stdout",
     "output_type": "stream",
     "text": [
      "pandas 0.24.2\n"
     ]
    }
   ],
   "source": [
    "import pandas\n",
    "print('pandas',pandas.__version__)\n",
    "import networkx\n",
    "print('networkx',networkx.__version__)\n",
    "from networkx import nx\n",
    "from matplotlib import pyplot as plt\n",
    "import time\n",
    "import pickle"
   ]
  },
  {
   "cell_type": "markdown",
   "metadata": {},
   "source": [
    "# Load data"
   ]
  },
  {
   "cell_type": "markdown",
   "metadata": {},
   "source": [
    "* Time: The start time of the event in epoch time format\n",
    "* Duration: The duration of the event in seconds.\n",
    "* SrcDevice: The device that likely initiated the event.\n",
    "* DstDevice: The receiving device.\n",
    "* Protocol: The protocol number.\n",
    "* SrcPort: The port used by the SrcDevice.\n",
    "* DstPort: The port used by the DstDevice.\n",
    "* SrcPackets: The number of packets the SrcDevice sent during the event.\n",
    "* DstPackets: The number of packets the DstDevice sent during the event.\n",
    "* SrcBytes: The number of bytes the SrcDevice sent during the event.\n",
    "* DstBytes: The number of bytes the DstDevice sent during the event."
   ]
  },
  {
   "cell_type": "raw",
   "metadata": {},
   "source": [
    "start_time = time.time()\n",
    "nfdf = pandas.read_csv('netflow_day-02',\n",
    "                       nrows=1000000, \n",
    "                       names=['Time','Duration','SrcDevice','DstDevice','Protocol','SrcPort','DstPort','SrcPackets','DstPackets','SrcBytes','DstBytes'])\n",
    "print('elapsed',round(time.time()-start_time,2),'seconds')"
   ]
  },
  {
   "cell_type": "markdown",
   "metadata": {},
   "source": [
    "nfdf.to_pickle(\"netflow_day_02_1E6rows.pkl\")"
   ]
  },
  {
   "cell_type": "code",
   "execution_count": null,
   "metadata": {},
   "outputs": [],
   "source": [
    "start_time = time.time()\n",
    "#nfdf = pandas.read_pickle('netflow_day_02_1E6rows.pkl')\n",
    "nfdf = pandas.read_pickle('../netflow_day_02_1E6rows.pkl') \n",
    "\n",
    "print('elapsed',round(time.time()-start_time,2),'seconds')"
   ]
  },
  {
   "cell_type": "markdown",
   "metadata": {},
   "source": [
    "# Exploration, Characterization"
   ]
  },
  {
   "cell_type": "code",
   "execution_count": null,
   "metadata": {},
   "outputs": [],
   "source": [
    "nfdf.shape"
   ]
  },
  {
   "cell_type": "code",
   "execution_count": null,
   "metadata": {},
   "outputs": [],
   "source": [
    "nfdf.head()"
   ]
  },
  {
   "cell_type": "markdown",
   "metadata": {},
   "source": [
    "# visualize using Networkx\n",
    "\n",
    "Here I provide code to visualize a graph"
   ]
  },
  {
   "cell_type": "markdown",
   "metadata": {},
   "source": [
    "https://networkx.github.io/documentation/stable/reference/generated/networkx.convert_matrix.from_pandas_edgelist.html#networkx.convert_matrix.from_pandas_edgelist"
   ]
  },
  {
   "cell_type": "code",
   "execution_count": null,
   "metadata": {},
   "outputs": [],
   "source": [
    "try:\n",
    "    G.clear()\n",
    "except NameError:\n",
    "    pass"
   ]
  },
  {
   "cell_type": "markdown",
   "metadata": {},
   "source": [
    "The following line allows you to select the number of rows used in the graph"
   ]
  },
  {
   "cell_type": "code",
   "execution_count": null,
   "metadata": {},
   "outputs": [],
   "source": [
    "# 100 rows selected\n",
    "G = nx.from_pandas_edgelist(nfdf[0:100],'SrcDevice','DstDevice','Duration')"
   ]
  },
  {
   "cell_type": "code",
   "execution_count": null,
   "metadata": {},
   "outputs": [],
   "source": [
    "G.number_of_nodes()"
   ]
  },
  {
   "cell_type": "markdown",
   "metadata": {},
   "source": [
    "### no labels"
   ]
  },
  {
   "cell_type": "code",
   "execution_count": null,
   "metadata": {},
   "outputs": [],
   "source": [
    "nx.draw(G, with_labels = False, node_size = 100)\n",
    "plt.show()"
   ]
  },
  {
   "cell_type": "code",
   "execution_count": null,
   "metadata": {},
   "outputs": [],
   "source": [
    "nx.draw(G, with_labels=False,node_size=100,pos = nx.circular_layout(G))\n",
    "plt.show()"
   ]
  },
  {
   "cell_type": "code",
   "execution_count": null,
   "metadata": {},
   "outputs": [],
   "source": [
    "pos = nx.spring_layout(G)\n",
    "nx.draw(G,with_labels=True)\n",
    "nx.draw_networkx_edge_labels(G,pos=pos,with_labels=True)\n",
    "_=plt.axis('off')"
   ]
  },
  {
   "cell_type": "markdown",
   "metadata": {},
   "source": [
    "# TASK: what number of nodes makes the visualization unreadable?\n",
    "\n",
    "You have a dataframe with 1,000,000 rows. \n",
    "\n",
    "First, design your experiments. What number of rows will you explore to address the question? \n",
    "\n",
    "At what point does node and/or edge labeling provide value?"
   ]
  },
  {
   "cell_type": "code",
   "execution_count": null,
   "metadata": {},
   "outputs": [],
   "source": []
  },
  {
   "cell_type": "code",
   "execution_count": null,
   "metadata": {},
   "outputs": [],
   "source": []
  }
 ],
 "metadata": {
  "kernelspec": {
   "display_name": "Python 3",
   "language": "python",
   "name": "python3"
  },
  "language_info": {
   "codemirror_mode": {
    "name": "ipython",
    "version": 3
   },
   "file_extension": ".py",
   "mimetype": "text/x-python",
   "name": "python",
   "nbconvert_exporter": "python",
   "pygments_lexer": "ipython3",
   "version": "3.7.3"
  }
 },
 "nbformat": 4,
 "nbformat_minor": 2
}
